{
 "cells": [
  {
   "cell_type": "code",
   "execution_count": 101,
   "id": "4a5b8c5f",
   "metadata": {},
   "outputs": [],
   "source": [
    "import numpy as np\n",
    "from scipy.sparse import csr_matrix\n",
    "from scipy.sparse.linalg import spsolve\n",
    "\n",
    "# Define the mesh\n",
    "N = 2\n",
    "h = 1.0 / N\n",
    "x = np.linspace(0, 1, N+1) # X=N+1\n",
    "y = np.linspace(0, 1, N+1) # Y=N+1\n",
    "X, Y = np.meshgrid(x, y)   # Square mesh from x horisontally and y vertically (N+1 x N+1)\n",
    "\n",
    "# Define the function space\n",
    "V = np.zeros((N+1)**2)\n",
    "I = np.arange((N+1)**3)\n"
   ]
  },
  {
   "cell_type": "code",
   "execution_count": null,
   "id": "d001b2f5",
   "metadata": {},
   "outputs": [],
   "source": []
  },
  {
   "cell_type": "code",
   "execution_count": 102,
   "id": "cebb15aa",
   "metadata": {},
   "outputs": [],
   "source": [
    "# Define the boundary condition\n",
    "def boundary(i):\n",
    "    return X.flat[i] == 0 or X.flat[i] == 1 or Y.flat[i] == 0 or Y.flat[i] == 1"
   ]
  },
  {
   "cell_type": "markdown",
   "id": "2cec4d86",
   "metadata": {},
   "source": [
    "Dirichlet condition that satisfies the Laplace equation with Dirichlet boundary conditions. The choice of u_D depends on the specific problem being solved and the boundary conditions prescribed for it."
   ]
  },
  {
   "cell_type": "code",
   "execution_count": 118,
   "id": "25e183fc",
   "metadata": {},
   "outputs": [],
   "source": [
    "u_D = lambda x, y: 1 + x**2 + 2*y**3\n"
   ]
  },
  {
   "cell_type": "code",
   "execution_count": 119,
   "id": "35b845d0",
   "metadata": {},
   "outputs": [],
   "source": [
    "# Define the stiffness matrix and load vector\n",
    "A = np.zeros(((N+1)**2, (N+1)**2))\n",
    "b = np.zeros((N+1)**2)"
   ]
  },
  {
   "cell_type": "code",
   "execution_count": 120,
   "id": "52cb79f0",
   "metadata": {},
   "outputs": [
    {
     "data": {
      "text/plain": [
       "array([0., 0., 0., 0., 0., 0., 0., 0., 0.])"
      ]
     },
     "execution_count": 120,
     "metadata": {},
     "output_type": "execute_result"
    }
   ],
   "source": [
    "b"
   ]
  },
  {
   "cell_type": "code",
   "execution_count": 121,
   "id": "ac058225",
   "metadata": {
    "scrolled": false
   },
   "outputs": [
    {
     "name": "stdout",
     "output_type": "stream",
     "text": [
      "b 0 1.0\n",
      "b 1 1.0\n",
      "b 2 1.0\n",
      "b 3 1.0\n",
      "n 4 -16.0\n",
      "b 5 1.0\n",
      "b 6 1.0\n",
      "b 7 1.0\n",
      "b 8 1.0\n"
     ]
    },
    {
     "data": {
      "image/png": "[encoded data removed]",
      "text/plain": [
       "<Figure size 640x480 with 2 Axes>"
      ]
     },
     "metadata": {},
     "output_type": "display_data"
    }
   ],
   "source": [
    "for i in range((N+1)**2):\n",
    "    \n",
    "    if boundary(i):\n",
    "        \n",
    "        A[i, i] = 1.0\n",
    "        b[i] = u_D(X.flat[i], Y.flat[i])\n",
    "        print (\"b\",i, A[i, i])\n",
    "    else:\n",
    "        \n",
    "        A[i, i] = -4.0 / h**2\n",
    "        A[i, i-1] = A[i, i+1] = A[i, i-N-1] = A[i, i+N+1] = 1.0 / h**2\n",
    "        b[i] = 0.0\n",
    "        print(\"n\",i,A[i, i])\n",
    "\n",
    "# Solve the linear system\n",
    "u = spsolve(csr_matrix(A), b)\n",
    "\n",
    "# Reshape the solution to a 2D array for plotting\n",
    "U = u.reshape((N+1, N+1))\n",
    "\n",
    "# Plot the solution\n",
    "import matplotlib.pyplot as plt\n",
    "plt.imshow(U, extent=(0, 1, 0, 1), origin='lower', cmap='jet')\n",
    "plt.colorbar()\n",
    "plt.show()"
   ]
  },
  {
   "cell_type": "code",
   "execution_count": 117,
   "id": "0de63930",
   "metadata": {},
   "outputs": [
    {
     "data": {
      "text/plain": [
       "array([[1.   , 1.25 , 2.   ],\n",
       "       [1.5  , 2.125, 2.5  ],\n",
       "       [3.   , 3.25 , 4.   ]])"
      ]
     },
     "execution_count": 117,
     "metadata": {},
     "output_type": "execute_result"
    }
   ],
   "source": [
    "U"
   ]
  },
  {
   "cell_type": "code",
   "execution_count": null,
   "id": "eede854d",
   "metadata": {},
   "outputs": [],
   "source": []
  }
 ],
 "metadata": {
  "kernelspec": {
   "display_name": "Python 3 (ipykernel)",
   "language": "python",
   "name": "python3"
  },
  "language_info": {
   "codemirror_mode": {
    "name": "ipython",
    "version": 3
   },
   "file_extension": ".py",
   "mimetype": "text/x-python",
   "name": "python",
   "nbconvert_exporter": "python",
   "pygments_lexer": "ipython3",
   "version": "3.9.13"
  }
 },
 "nbformat": 4,
 "nbformat_minor": 5
}
