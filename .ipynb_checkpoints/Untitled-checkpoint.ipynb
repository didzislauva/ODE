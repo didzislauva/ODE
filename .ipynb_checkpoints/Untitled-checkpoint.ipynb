{
 "cells": [],
 "metadata": {},
 "nbformat": 4,
<<<<<<< HEAD
 "nbformat_minor": 4
=======
 "nbformat_minor": 5
>>>>>>> ad81d315073c10d909516d79ad29a5114774ca3d
}
